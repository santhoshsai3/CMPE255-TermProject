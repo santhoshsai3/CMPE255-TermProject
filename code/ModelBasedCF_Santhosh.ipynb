{
 "cells": [
  {
   "cell_type": "markdown",
   "id": "36441433",
   "metadata": {},
   "source": [
    "# Model Based Collaborative Filtering"
   ]
  },
  {
   "cell_type": "markdown",
   "id": "9b86f278",
   "metadata": {},
   "source": [
    "Here we will be using dimensionality reduction techniques to improve robustness and accuracy of Memory-Based CF. Basically, we compress user-item matrix which has high number of dimensions into a low dimensional matrix using techniques like SVD, KNN and \n",
    "NMF.\n"
   ]
  },
  {
   "cell_type": "code",
   "execution_count": 1,
   "id": "8c41e956",
   "metadata": {},
   "outputs": [],
   "source": [
    "#reading dataset\n",
    "import pandas as pd\n",
    "import numpy as np\n",
    "from sklearn import preprocessing"
   ]
  },
  {
   "cell_type": "code",
   "execution_count": 2,
   "id": "af8baf58",
   "metadata": {},
   "outputs": [],
   "source": [
    "df = pd.read_csv('ratings_Beauty.csv')\n"
   ]
  },
  {
   "cell_type": "code",
   "execution_count": 4,
   "id": "113bb4f9",
   "metadata": {},
   "outputs": [
    {
     "data": {
      "text/html": [
       "<div>\n",
       "<style scoped>\n",
       "    .dataframe tbody tr th:only-of-type {\n",
       "        vertical-align: middle;\n",
       "    }\n",
       "\n",
       "    .dataframe tbody tr th {\n",
       "        vertical-align: top;\n",
       "    }\n",
       "\n",
       "    .dataframe thead th {\n",
       "        text-align: right;\n",
       "    }\n",
       "</style>\n",
       "<table border=\"1\" class=\"dataframe\">\n",
       "  <thead>\n",
       "    <tr style=\"text-align: right;\">\n",
       "      <th></th>\n",
       "      <th>UserId</th>\n",
       "      <th>ProductId</th>\n",
       "      <th>Rating</th>\n",
       "      <th>Timestamp</th>\n",
       "    </tr>\n",
       "  </thead>\n",
       "  <tbody>\n",
       "    <tr>\n",
       "      <th>0</th>\n",
       "      <td>A39HTATAQ9V7YF</td>\n",
       "      <td>0205616461</td>\n",
       "      <td>5.0</td>\n",
       "      <td>1369699200</td>\n",
       "    </tr>\n",
       "    <tr>\n",
       "      <th>1</th>\n",
       "      <td>A3JM6GV9MNOF9X</td>\n",
       "      <td>0558925278</td>\n",
       "      <td>3.0</td>\n",
       "      <td>1355443200</td>\n",
       "    </tr>\n",
       "    <tr>\n",
       "      <th>2</th>\n",
       "      <td>A1Z513UWSAAO0F</td>\n",
       "      <td>0558925278</td>\n",
       "      <td>5.0</td>\n",
       "      <td>1404691200</td>\n",
       "    </tr>\n",
       "    <tr>\n",
       "      <th>3</th>\n",
       "      <td>A1WMRR494NWEWV</td>\n",
       "      <td>0733001998</td>\n",
       "      <td>4.0</td>\n",
       "      <td>1382572800</td>\n",
       "    </tr>\n",
       "    <tr>\n",
       "      <th>4</th>\n",
       "      <td>A3IAAVS479H7M7</td>\n",
       "      <td>0737104473</td>\n",
       "      <td>1.0</td>\n",
       "      <td>1274227200</td>\n",
       "    </tr>\n",
       "    <tr>\n",
       "      <th>...</th>\n",
       "      <td>...</td>\n",
       "      <td>...</td>\n",
       "      <td>...</td>\n",
       "      <td>...</td>\n",
       "    </tr>\n",
       "    <tr>\n",
       "      <th>2023065</th>\n",
       "      <td>A3DEHKPFANB8VA</td>\n",
       "      <td>B00LORWRJA</td>\n",
       "      <td>5.0</td>\n",
       "      <td>1405296000</td>\n",
       "    </tr>\n",
       "    <tr>\n",
       "      <th>2023066</th>\n",
       "      <td>A3DEHKPFANB8VA</td>\n",
       "      <td>B00LOS7MEE</td>\n",
       "      <td>5.0</td>\n",
       "      <td>1405296000</td>\n",
       "    </tr>\n",
       "    <tr>\n",
       "      <th>2023067</th>\n",
       "      <td>AG9TJLJUN5OM3</td>\n",
       "      <td>B00LP2YB8E</td>\n",
       "      <td>5.0</td>\n",
       "      <td>1405382400</td>\n",
       "    </tr>\n",
       "    <tr>\n",
       "      <th>2023068</th>\n",
       "      <td>AYBIB14QOI9PC</td>\n",
       "      <td>B00LPVG6V0</td>\n",
       "      <td>5.0</td>\n",
       "      <td>1405555200</td>\n",
       "    </tr>\n",
       "    <tr>\n",
       "      <th>2023069</th>\n",
       "      <td>A1PB6OT0OOPKNQ</td>\n",
       "      <td>B00LU0LTOU</td>\n",
       "      <td>5.0</td>\n",
       "      <td>1405641600</td>\n",
       "    </tr>\n",
       "  </tbody>\n",
       "</table>\n",
       "<p>2023070 rows × 4 columns</p>\n",
       "</div>"
      ],
      "text/plain": [
       "                 UserId   ProductId  Rating   Timestamp\n",
       "0        A39HTATAQ9V7YF  0205616461     5.0  1369699200\n",
       "1        A3JM6GV9MNOF9X  0558925278     3.0  1355443200\n",
       "2        A1Z513UWSAAO0F  0558925278     5.0  1404691200\n",
       "3        A1WMRR494NWEWV  0733001998     4.0  1382572800\n",
       "4        A3IAAVS479H7M7  0737104473     1.0  1274227200\n",
       "...                 ...         ...     ...         ...\n",
       "2023065  A3DEHKPFANB8VA  B00LORWRJA     5.0  1405296000\n",
       "2023066  A3DEHKPFANB8VA  B00LOS7MEE     5.0  1405296000\n",
       "2023067   AG9TJLJUN5OM3  B00LP2YB8E     5.0  1405382400\n",
       "2023068   AYBIB14QOI9PC  B00LPVG6V0     5.0  1405555200\n",
       "2023069  A1PB6OT0OOPKNQ  B00LU0LTOU     5.0  1405641600\n",
       "\n",
       "[2023070 rows x 4 columns]"
      ]
     },
     "execution_count": 4,
     "metadata": {},
     "output_type": "execute_result"
    }
   ],
   "source": [
    "df"
   ]
  },
  {
   "cell_type": "code",
   "execution_count": 7,
   "id": "563af48f",
   "metadata": {},
   "outputs": [
    {
     "data": {
      "text/html": [
       "<div>\n",
       "<style scoped>\n",
       "    .dataframe tbody tr th:only-of-type {\n",
       "        vertical-align: middle;\n",
       "    }\n",
       "\n",
       "    .dataframe tbody tr th {\n",
       "        vertical-align: top;\n",
       "    }\n",
       "\n",
       "    .dataframe thead th {\n",
       "        text-align: right;\n",
       "    }\n",
       "</style>\n",
       "<table border=\"1\" class=\"dataframe\">\n",
       "  <thead>\n",
       "    <tr style=\"text-align: right;\">\n",
       "      <th></th>\n",
       "      <th>Rating</th>\n",
       "    </tr>\n",
       "    <tr>\n",
       "      <th>ProductId</th>\n",
       "      <th></th>\n",
       "    </tr>\n",
       "  </thead>\n",
       "  <tbody>\n",
       "    <tr>\n",
       "      <th>B0000YUXI0</th>\n",
       "      <td>2143</td>\n",
       "    </tr>\n",
       "    <tr>\n",
       "      <th>B000142FVW</th>\n",
       "      <td>1558</td>\n",
       "    </tr>\n",
       "    <tr>\n",
       "      <th>B0009V1YR8</th>\n",
       "      <td>2869</td>\n",
       "    </tr>\n",
       "    <tr>\n",
       "      <th>B000FS05VG</th>\n",
       "      <td>1589</td>\n",
       "    </tr>\n",
       "    <tr>\n",
       "      <th>B000TKH6G2</th>\n",
       "      <td>1379</td>\n",
       "    </tr>\n",
       "    <tr>\n",
       "      <th>B000ZMBSPE</th>\n",
       "      <td>2041</td>\n",
       "    </tr>\n",
       "    <tr>\n",
       "      <th>B00121UVU0</th>\n",
       "      <td>1838</td>\n",
       "    </tr>\n",
       "    <tr>\n",
       "      <th>B00150LT40</th>\n",
       "      <td>1349</td>\n",
       "    </tr>\n",
       "    <tr>\n",
       "      <th>B00188IFHS</th>\n",
       "      <td>1341</td>\n",
       "    </tr>\n",
       "    <tr>\n",
       "      <th>B001JKTTVQ</th>\n",
       "      <td>1468</td>\n",
       "    </tr>\n",
       "    <tr>\n",
       "      <th>B001MA0QY2</th>\n",
       "      <td>7533</td>\n",
       "    </tr>\n",
       "    <tr>\n",
       "      <th>B003BQ6QXK</th>\n",
       "      <td>1918</td>\n",
       "    </tr>\n",
       "    <tr>\n",
       "      <th>B003S516XO</th>\n",
       "      <td>1347</td>\n",
       "    </tr>\n",
       "    <tr>\n",
       "      <th>B003V265QW</th>\n",
       "      <td>2088</td>\n",
       "    </tr>\n",
       "    <tr>\n",
       "      <th>B0043OYFKU</th>\n",
       "      <td>2477</td>\n",
       "    </tr>\n",
       "    <tr>\n",
       "      <th>B0046VGPHQ</th>\n",
       "      <td>1475</td>\n",
       "    </tr>\n",
       "    <tr>\n",
       "      <th>B0048O2R1E</th>\n",
       "      <td>1349</td>\n",
       "    </tr>\n",
       "    <tr>\n",
       "      <th>B004INUWX0</th>\n",
       "      <td>1430</td>\n",
       "    </tr>\n",
       "    <tr>\n",
       "      <th>B004OHQR1Q</th>\n",
       "      <td>1885</td>\n",
       "    </tr>\n",
       "    <tr>\n",
       "      <th>B00538TSMU</th>\n",
       "      <td>1330</td>\n",
       "    </tr>\n",
       "    <tr>\n",
       "      <th>B0056GDG90</th>\n",
       "      <td>1333</td>\n",
       "    </tr>\n",
       "    <tr>\n",
       "      <th>B0069FDR96</th>\n",
       "      <td>1323</td>\n",
       "    </tr>\n",
       "  </tbody>\n",
       "</table>\n",
       "</div>"
      ],
      "text/plain": [
       "            Rating\n",
       "ProductId         \n",
       "B0000YUXI0    2143\n",
       "B000142FVW    1558\n",
       "B0009V1YR8    2869\n",
       "B000FS05VG    1589\n",
       "B000TKH6G2    1379\n",
       "B000ZMBSPE    2041\n",
       "B00121UVU0    1838\n",
       "B00150LT40    1349\n",
       "B00188IFHS    1341\n",
       "B001JKTTVQ    1468\n",
       "B001MA0QY2    7533\n",
       "B003BQ6QXK    1918\n",
       "B003S516XO    1347\n",
       "B003V265QW    2088\n",
       "B0043OYFKU    2477\n",
       "B0046VGPHQ    1475\n",
       "B0048O2R1E    1349\n",
       "B004INUWX0    1430\n",
       "B004OHQR1Q    1885\n",
       "B00538TSMU    1330\n",
       "B0056GDG90    1333\n",
       "B0069FDR96    1323"
      ]
     },
     "execution_count": 7,
     "metadata": {},
     "output_type": "execute_result"
    }
   ],
   "source": [
    "#getting the number of ratings for each product and dropping products with less than 1000 ratings. If the higher limit is less, the dimensionality increases which takes more compute power which is not available in local machine.\n",
    "rating_of_product = df.groupby('ProductId')['Rating'].count() \n",
    "ratings_of_products_df = pd.DataFrame(rating_of_product)\n",
    "filtered_ratings_per_product = ratings_of_products_df[ratings_of_products_df.Rating >= 1000]\n",
    "filtered_ratings_per_product"
   ]
  },
  {
   "cell_type": "code",
   "execution_count": 8,
   "id": "3670af4f",
   "metadata": {},
   "outputs": [
    {
     "name": "stdout",
     "output_type": "stream",
     "text": [
      "Popular product count which have ratings over average rating count:  22\n",
      "The size of dataset has changed from  2023070  to  43063\n"
     ]
    }
   ],
   "source": [
    "# build a list of products to keep\n",
    "popular_products = filtered_ratings_per_product.index.tolist()\n",
    "print(\"Popular product count which have ratings over average rating count: \",len(popular_products))\n",
    "filtered_ratings_data = df[df[\"ProductId\"].isin(popular_products)]\n",
    "print(\"The size of dataset has changed from \", len(df), \" to \", len(filtered_ratings_data))"
   ]
  },
  {
   "cell_type": "code",
   "execution_count": 9,
   "id": "c9c19b73",
   "metadata": {},
   "outputs": [],
   "source": [
    "from surprise import Reader, Dataset, KNNBasic, SVD, NMF\n",
    "from surprise.model_selection import GridSearchCV, cross_validate\n"
   ]
  },
  {
   "cell_type": "markdown",
   "id": "4ed10014",
   "metadata": {},
   "source": [
    "I am using a \"Surprise\" library to implement SVD, KNN and NMF.\n",
    "You can find its documentation here > https://surprise.readthedocs.io/en/stable/\n",
    "Surprise Library has almost all the algorithms implemented that are required for model-based Recommendation systems."
   ]
  },
  {
   "cell_type": "markdown",
   "id": "5138fcc5",
   "metadata": {},
   "source": [
    "To load a dataset from a pandas dataframe, you will need the load_from_df() method. You will also need a Reader object, but only the rating_scale parameter must be specified.\n",
    "\n",
    "The Reader class is used to parse a file containing ratings."
   ]
  },
  {
   "cell_type": "code",
   "execution_count": 11,
   "id": "8d48071f",
   "metadata": {},
   "outputs": [],
   "source": [
    "reader = Reader(rating_scale=(0.5, 5.0))\n",
    "\n",
    "data = Dataset.load_from_df( filtered_ratings_data[['UserId', 'ProductId', 'Rating']], reader = reader )"
   ]
  },
  {
   "cell_type": "markdown",
   "id": "d23c6080",
   "metadata": {},
   "source": [
    "#  K-Nearest Neighbours (KNN)"
   ]
  },
  {
   "cell_type": "code",
   "execution_count": 13,
   "id": "b4b5a45f",
   "metadata": {},
   "outputs": [
    {
     "name": "stdout",
     "output_type": "stream",
     "text": [
      "Computing the msd similarity matrix...\n",
      "Done computing similarity matrix.\n",
      "Computing the msd similarity matrix...\n",
      "Done computing similarity matrix.\n",
      "Computing the msd similarity matrix...\n",
      "Done computing similarity matrix.\n",
      "Computing the msd similarity matrix...\n",
      "Done computing similarity matrix.\n",
      "Computing the msd similarity matrix...\n",
      "Done computing similarity matrix.\n",
      "Evaluating RMSE of algorithm KNNBasic on 5 split(s).\n",
      "\n",
      "                  Fold 1  Fold 2  Fold 3  Fold 4  Fold 5  Mean    Std     \n",
      "RMSE (testset)    1.2679  1.2820  1.2434  1.2703  1.2662  1.2660  0.0126  \n",
      "Fit time          64.49   78.95   70.44   73.26   70.32   71.49   4.69    \n",
      "Test time         0.65    0.56    0.60    0.54    0.55    0.58    0.04    \n"
     ]
    },
    {
     "data": {
      "text/plain": [
       "{'test_rmse': array([1.26788585, 1.28204568, 1.2433788 , 1.27033014, 1.26621639]),\n",
       " 'fit_time': (64.48896431922913,\n",
       "  78.94706225395203,\n",
       "  70.44118452072144,\n",
       "  73.2566487789154,\n",
       "  70.32270073890686),\n",
       " 'test_time': (0.6484858989715576,\n",
       "  0.5581698417663574,\n",
       "  0.6041581630706787,\n",
       "  0.5350089073181152,\n",
       "  0.55301833152771)}"
      ]
     },
     "execution_count": 13,
     "metadata": {},
     "output_type": "execute_result"
    }
   ],
   "source": [
    "# Compute Mean Squared Distance Similarity\n",
    "sim_options = {'name' : 'msd'}\n",
    "\n",
    "algo = KNNBasic(k=15, sim_options=sim_options )\n",
    "cross_validate(algo=algo, data=data, measures=['RMSE'], cv=5, verbose=True)"
   ]
  },
  {
   "cell_type": "markdown",
   "id": "525531d4",
   "metadata": {},
   "source": [
    "# Tuning KNN using GridSearchCV"
   ]
  },
  {
   "cell_type": "code",
   "execution_count": 14,
   "id": "3a07ef12",
   "metadata": {},
   "outputs": [
    {
     "name": "stdout",
     "output_type": "stream",
     "text": [
      "Computing the msd similarity matrix...\n",
      "Done computing similarity matrix.\n",
      "Computing the msd similarity matrix...\n",
      "Done computing similarity matrix.\n",
      "Computing the msd similarity matrix...\n",
      "Done computing similarity matrix.\n",
      "Computing the msd similarity matrix...\n",
      "Done computing similarity matrix.\n",
      "Computing the msd similarity matrix...\n",
      "Done computing similarity matrix.\n",
      "Computing the msd similarity matrix...\n",
      "Done computing similarity matrix.\n",
      "Computing the msd similarity matrix...\n",
      "Done computing similarity matrix.\n",
      "Computing the msd similarity matrix...\n",
      "Done computing similarity matrix.\n",
      "Computing the msd similarity matrix...\n",
      "Done computing similarity matrix.\n",
      "Computing the msd similarity matrix...\n",
      "Done computing similarity matrix.\n",
      "Computing the msd similarity matrix...\n",
      "Done computing similarity matrix.\n",
      "Computing the msd similarity matrix...\n",
      "Done computing similarity matrix.\n",
      "Computing the msd similarity matrix...\n",
      "Done computing similarity matrix.\n",
      "Computing the msd similarity matrix...\n",
      "Done computing similarity matrix.\n",
      "Computing the msd similarity matrix...\n",
      "Done computing similarity matrix.\n",
      "\n",
      "\n",
      "###############\n",
      "Best Score : 1.2658886122539221\n",
      "Best Parameters : {'n_neighbours': 5}\n",
      "###############\n"
     ]
    }
   ],
   "source": [
    "n_neighbours = [5,10,15]\n",
    "param_grid = {'n_neighbours' : n_neighbours}\n",
    "\n",
    "gs = GridSearchCV(KNNBasic, measures=['RMSE'], param_grid=param_grid)\n",
    "gs.fit(data)\n",
    "\n",
    "print('\\n\\n###############')\n",
    "# Best RMSE score\n",
    "print('Best Score :', gs.best_score['rmse'])\n",
    "\n",
    "# Combination of parameters that gave the best RMSE score\n",
    "print('Best Parameters :', gs.best_params['rmse'])\n",
    "print('###############')"
   ]
  },
  {
   "cell_type": "markdown",
   "id": "dff3c724",
   "metadata": {},
   "source": [
    "# Singular Value Decomposition (SVD)"
   ]
  },
  {
   "cell_type": "code",
   "execution_count": 15,
   "id": "8e7fcd55",
   "metadata": {},
   "outputs": [
    {
     "name": "stdout",
     "output_type": "stream",
     "text": [
      "Evaluating RMSE of algorithm SVD on 5 split(s).\n",
      "\n",
      "                  Fold 1  Fold 2  Fold 3  Fold 4  Fold 5  Mean    Std     \n",
      "RMSE (testset)    1.2104  1.2275  1.2271  1.2227  1.2310  1.2237  0.0072  \n",
      "Fit time          2.67    2.42    2.29    1.97    1.77    2.22    0.32    \n",
      "Test time         0.06    0.04    0.04    0.03    0.03    0.04    0.01    \n"
     ]
    },
    {
     "data": {
      "text/plain": [
       "{'test_rmse': array([1.21040106, 1.22749314, 1.22707846, 1.22267768, 1.23103277]),\n",
       " 'fit_time': (2.6673812866210938,\n",
       "  2.42238450050354,\n",
       "  2.285001516342163,\n",
       "  1.9690957069396973,\n",
       "  1.767554521560669),\n",
       " 'test_time': (0.06033730506896973,\n",
       "  0.04401206970214844,\n",
       "  0.040024518966674805,\n",
       "  0.03201889991760254,\n",
       "  0.032019853591918945)}"
      ]
     },
     "execution_count": 15,
     "metadata": {},
     "output_type": "execute_result"
    }
   ],
   "source": [
    "algo = SVD()\n",
    "cross_validate(algo=algo, data=data, measures=['RMSE'], cv=5, verbose=True)"
   ]
  },
  {
   "cell_type": "markdown",
   "id": "df1de1b3",
   "metadata": {},
   "source": [
    "#  Non-Negative Matrix Factorization (NMF)"
   ]
  },
  {
   "cell_type": "code",
   "execution_count": 17,
   "id": "37348f9e",
   "metadata": {},
   "outputs": [
    {
     "name": "stdout",
     "output_type": "stream",
     "text": [
      "Evaluating RMSE of algorithm NMF on 5 split(s).\n",
      "\n",
      "                  Fold 1  Fold 2  Fold 3  Fold 4  Fold 5  Mean    Std     \n",
      "RMSE (testset)    1.2846  1.2816  1.2682  1.2786  1.2780  1.2782  0.0055  \n",
      "Fit time          3.42    3.38    3.41    3.38    3.40    3.40    0.01    \n",
      "Test time         0.06    0.03    0.04    0.04    0.04    0.04    0.01    \n"
     ]
    },
    {
     "data": {
      "text/plain": [
       "{'test_rmse': array([1.28457273, 1.28162271, 1.26824242, 1.27864237, 1.2780382 ]),\n",
       " 'fit_time': (3.4189417362213135,\n",
       "  3.38118052482605,\n",
       "  3.408555746078491,\n",
       "  3.38480281829834,\n",
       "  3.4014081954956055),\n",
       " 'test_time': (0.056090593338012695,\n",
       "  0.0319979190826416,\n",
       "  0.03600955009460449,\n",
       "  0.040010929107666016,\n",
       "  0.03600931167602539)}"
      ]
     },
     "execution_count": 17,
     "metadata": {},
     "output_type": "execute_result"
    }
   ],
   "source": [
    "algo = NMF()\n",
    "cross_validate(data=data, algo=algo, measures=['RMSE'], cv=5, verbose=True)"
   ]
  },
  {
   "cell_type": "code",
   "execution_count": null,
   "id": "dd97e565",
   "metadata": {},
   "outputs": [],
   "source": []
  }
 ],
 "metadata": {
  "kernelspec": {
   "display_name": "Python 3 (ipykernel)",
   "language": "python",
   "name": "python3"
  },
  "language_info": {
   "codemirror_mode": {
    "name": "ipython",
    "version": 3
   },
   "file_extension": ".py",
   "mimetype": "text/x-python",
   "name": "python",
   "nbconvert_exporter": "python",
   "pygments_lexer": "ipython3",
   "version": "3.9.7"
  }
 },
 "nbformat": 4,
 "nbformat_minor": 5
}

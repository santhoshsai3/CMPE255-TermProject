{
 "cells": [
  {
   "cell_type": "markdown",
   "id": "898b98f2",
   "metadata": {},
   "source": [
    "# Importing the required libraries"
   ]
  },
  {
   "cell_type": "code",
   "execution_count": 4,
   "id": "aaf70f65",
   "metadata": {},
   "outputs": [],
   "source": [
    "import pandas as pd\n",
    "import numpy as np\n",
    "import matplotlib.pyplot as plt\n",
    "import seaborn as sns"
   ]
  },
  {
   "cell_type": "markdown",
   "id": "20500a52",
   "metadata": {},
   "source": [
    "# Loading the dataset to the pandas dataframe."
   ]
  },
  {
   "cell_type": "code",
   "execution_count": 5,
   "id": "be2c7486",
   "metadata": {},
   "outputs": [],
   "source": [
    "df = pd.read_csv('https://raw.githubusercontent.com/santhoshsai3/CMPE255-TermProject/main/ratings_Beauty.csv')"
   ]
  },
  {
   "cell_type": "markdown",
   "id": "4182676c",
   "metadata": {},
   "source": [
    "# Summary of Dataset"
   ]
  },
  {
   "cell_type": "code",
   "execution_count": null,
   "id": "875a0b31",
   "metadata": {},
   "outputs": [],
   "source": [
    "print(\"shape of the dataset :\" , df.shape)\n",
    "(rows,cols) = df.shape\n",
    "print(\"The number of rows : \", rows)\n",
    "print(\"The number of columns : \", cols)"
   ]
  },
  {
   "cell_type": "code",
   "execution_count": null,
   "id": "8695350d",
   "metadata": {},
   "outputs": [],
   "source": [
    "df.info()"
   ]
  },
  {
   "cell_type": "code",
   "execution_count": null,
   "id": "760581f7",
   "metadata": {},
   "outputs": [],
   "source": [
    "df.describe()"
   ]
  },
  {
   "cell_type": "code",
   "execution_count": null,
   "id": "50c3bdde",
   "metadata": {},
   "outputs": [],
   "source": [
    "#displaying the dataset\n",
    "df"
   ]
  },
  {
   "cell_type": "code",
   "execution_count": null,
   "id": "32ef5552",
   "metadata": {},
   "outputs": [],
   "source": [
    "#checking for the data integriety by finding the duplicate rows.\n",
    "duplicates = df.duplicated([\"UserId\",\"ProductId\", \"Rating\", \"Timestamp\"]).sum()\n",
    "print(' Duplicate records: ',duplicates)"
   ]
  },
  {
   "cell_type": "code",
   "execution_count": null,
   "id": "5f61667c",
   "metadata": {},
   "outputs": [],
   "source": [
    "#Printing the number of unique users\n",
    "print('unique users:',len(df['UserId'].unique()))\n",
    "\n"
   ]
  },
  {
   "cell_type": "code",
   "execution_count": null,
   "id": "ecaa9118",
   "metadata": {},
   "outputs": [],
   "source": [
    "#Printing the number of unique products\n",
    "print('unique products:',len(df['ProductId'].unique()))\n"
   ]
  },
  {
   "cell_type": "code",
   "execution_count": null,
   "id": "f399ba41",
   "metadata": {},
   "outputs": [],
   "source": [
    "#Printing the number of unique ratings\n",
    "print('unique ratings:',len(df['Rating'].unique()))"
   ]
  },
  {
   "cell_type": "markdown",
   "id": "772049ad",
   "metadata": {},
   "source": [
    "# Handling null values"
   ]
  },
  {
   "cell_type": "code",
   "execution_count": null,
   "id": "7819cfd5",
   "metadata": {},
   "outputs": [],
   "source": [
    "df.isnull().any()"
   ]
  },
  {
   "cell_type": "code",
   "execution_count": null,
   "id": "d92e4336",
   "metadata": {},
   "outputs": [],
   "source": [
    "#Data Analysis"
   ]
  },
  {
   "cell_type": "code",
   "execution_count": null,
   "id": "77a8f614",
   "metadata": {},
   "outputs": [],
   "source": [
    "#Number of rated products per user\n",
    "\n",
    "prod_per_user= df.groupby(by = \"UserId\")[\"Rating\"].count().sort_values(ascending =False)\n",
    "prod_per_user.head()"
   ]
  },
  {
   "cell_type": "code",
   "execution_count": null,
   "id": "01df00a8",
   "metadata": {},
   "outputs": [],
   "source": [
    "#Number of ratings per product\n",
    "\n",
    "product_rating = df.groupby(by = \"ProductId\")[\"Rating\"].count().sort_values(ascending = False)\n",
    "product_rating.head()"
   ]
  },
  {
   "cell_type": "code",
   "execution_count": null,
   "id": "7e206c66",
   "metadata": {},
   "outputs": [],
   "source": [
    "#Number of products rated by each user\n",
    "\n",
    "rated_users=df.groupby(\"UserId\")[\"ProductId\"].count().sort_values(ascending=False)\n",
    "print(rated_users)\n",
    "\n",
    "rated_products=df.groupby(\"ProductId\")[\"UserId\"].count().sort_values(ascending=False)\n",
    "print(rated_products)"
   ]
  },
  {
   "cell_type": "code",
   "execution_count": null,
   "id": "0ae0a70c",
   "metadata": {},
   "outputs": [],
   "source": [
    "#Number of products with some minimum ratings\n",
    "\n",
    "print('Number of products with minimum of 5 reviews/ratings:',rated_products[rated_products>5].count())\n",
    "print('Number of products with minimum of 4 reviews/ratings:',rated_products[rated_products>4].count())\n",
    "print('Number of products with minimum of 3 reviews/ratings:',rated_products[rated_products>3].count())\n",
    "print('Number of products with minimum of 2 reviews/ratings:',rated_products[rated_products>2].count())\n",
    "print('Number of products with minimum of 1 reviews/ratings:',rated_products[rated_products>1].count())"
   ]
  },
  {
   "cell_type": "code",
   "execution_count": null,
   "id": "e6195c7c",
   "metadata": {},
   "outputs": [],
   "source": [
    "#Data Visualization"
   ]
  },
  {
   "cell_type": "code",
   "execution_count": null,
   "id": "78d5a9a7",
   "metadata": {},
   "outputs": [],
   "source": [
    "#Distributuon of ratings\n",
    "with sns.axes_style('white'):\n",
    "    g = sns.catplot(\"Rating\", data=df, aspect=2.0,kind='count')\n",
    "    g.set_ylabels(\"Total number of ratings\")"
   ]
  }
 ],
 "metadata": {
  "kernelspec": {
   "display_name": "Python 3 (ipykernel)",
   "language": "python",
   "name": "python3"
  },
  "language_info": {
   "codemirror_mode": {
    "name": "ipython",
    "version": 3
   },
   "file_extension": ".py",
   "mimetype": "text/x-python",
   "name": "python",
   "nbconvert_exporter": "python",
   "pygments_lexer": "ipython3",
   "version": "3.10.2"
  }
 },
 "nbformat": 4,
 "nbformat_minor": 5
}

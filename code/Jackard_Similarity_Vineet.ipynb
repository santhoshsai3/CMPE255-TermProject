{
 "cells": [
  {
   "cell_type": "markdown",
   "metadata": {},
   "source": [
    "# Collaborative filtering - memory based using Jackard Similarity"
   ]
  },
  {
   "cell_type": "markdown",
   "metadata": {},
   "source": [
    "## Importing libraries and initial data checks"
   ]
  },
  {
   "cell_type": "code",
   "execution_count": 1,
   "metadata": {},
   "outputs": [],
   "source": [
    "# import required libraries\n",
    "import pandas as pd\n",
    "import numpy as np"
   ]
  },
  {
   "cell_type": "markdown",
   "metadata": {},
   "source": [
    "### About the data\n",
    "\n",
    "This is a dataset related to over 2 Million customer reviews and ratings of Beauty related products sold on Amazon's website.\n",
    "\n",
    "It contains:\n",
    "- the unique UserId (Customer Identification),\n",
    "- the product ASIN (Amazon's unique product identification code for each product),\n",
    "- Ratings (ranging from 1-5 based on customer satisfaction) and\n",
    "- the Timestamp of the rating (in UNIX time)"
   ]
  },
  {
   "cell_type": "code",
   "execution_count": 2,
   "metadata": {},
   "outputs": [
    {
     "data": {
      "text/plain": [
       "(2023070, 4)"
      ]
     },
     "execution_count": 2,
     "metadata": {},
     "output_type": "execute_result"
    }
   ],
   "source": [
    "# raed the dataset\n",
    "df = pd.read_csv('/Users/admin/Desktop/CMPE255-TermProject/ratings_Beauty.csv')\n",
    "df.shape"
   ]
  },
  {
   "cell_type": "code",
   "execution_count": 3,
   "metadata": {},
   "outputs": [
    {
     "data": {
      "text/html": [
       "<div>\n",
       "<style scoped>\n",
       "    .dataframe tbody tr th:only-of-type {\n",
       "        vertical-align: middle;\n",
       "    }\n",
       "\n",
       "    .dataframe tbody tr th {\n",
       "        vertical-align: top;\n",
       "    }\n",
       "\n",
       "    .dataframe thead th {\n",
       "        text-align: right;\n",
       "    }\n",
       "</style>\n",
       "<table border=\"1\" class=\"dataframe\">\n",
       "  <thead>\n",
       "    <tr style=\"text-align: right;\">\n",
       "      <th></th>\n",
       "      <th>UserId</th>\n",
       "      <th>ProductId</th>\n",
       "      <th>Rating</th>\n",
       "      <th>Timestamp</th>\n",
       "    </tr>\n",
       "  </thead>\n",
       "  <tbody>\n",
       "    <tr>\n",
       "      <th>0</th>\n",
       "      <td>A39HTATAQ9V7YF</td>\n",
       "      <td>0205616461</td>\n",
       "      <td>5.0</td>\n",
       "      <td>1369699200</td>\n",
       "    </tr>\n",
       "    <tr>\n",
       "      <th>1</th>\n",
       "      <td>A3JM6GV9MNOF9X</td>\n",
       "      <td>0558925278</td>\n",
       "      <td>3.0</td>\n",
       "      <td>1355443200</td>\n",
       "    </tr>\n",
       "    <tr>\n",
       "      <th>2</th>\n",
       "      <td>A1Z513UWSAAO0F</td>\n",
       "      <td>0558925278</td>\n",
       "      <td>5.0</td>\n",
       "      <td>1404691200</td>\n",
       "    </tr>\n",
       "    <tr>\n",
       "      <th>3</th>\n",
       "      <td>A1WMRR494NWEWV</td>\n",
       "      <td>0733001998</td>\n",
       "      <td>4.0</td>\n",
       "      <td>1382572800</td>\n",
       "    </tr>\n",
       "    <tr>\n",
       "      <th>4</th>\n",
       "      <td>A3IAAVS479H7M7</td>\n",
       "      <td>0737104473</td>\n",
       "      <td>1.0</td>\n",
       "      <td>1274227200</td>\n",
       "    </tr>\n",
       "  </tbody>\n",
       "</table>\n",
       "</div>"
      ],
      "text/plain": [
       "           UserId   ProductId  Rating   Timestamp\n",
       "0  A39HTATAQ9V7YF  0205616461     5.0  1369699200\n",
       "1  A3JM6GV9MNOF9X  0558925278     3.0  1355443200\n",
       "2  A1Z513UWSAAO0F  0558925278     5.0  1404691200\n",
       "3  A1WMRR494NWEWV  0733001998     4.0  1382572800\n",
       "4  A3IAAVS479H7M7  0737104473     1.0  1274227200"
      ]
     },
     "execution_count": 3,
     "metadata": {},
     "output_type": "execute_result"
    }
   ],
   "source": [
    "# check the first 5 rows\n",
    "df.head()\n"
   ]
  },
  {
   "cell_type": "markdown",
   "metadata": {},
   "source": [
    "Check if there are any duplicate values present"
   ]
  },
  {
   "cell_type": "code",
   "execution_count": 4,
   "metadata": {},
   "outputs": [
    {
     "name": "stdout",
     "output_type": "stream",
     "text": [
      " Duplicate records:  0\n"
     ]
    }
   ],
   "source": [
    "duplicates = df.duplicated([\"UserId\",\"ProductId\", \"Rating\", \"Timestamp\"]).sum()\n",
    "print(' Duplicate records: ',duplicates)"
   ]
  },
  {
   "cell_type": "markdown",
   "metadata": {},
   "source": [
    "See the number of unique values present"
   ]
  },
  {
   "cell_type": "code",
   "execution_count": 5,
   "metadata": {},
   "outputs": [
    {
     "name": "stdout",
     "output_type": "stream",
     "text": [
      "unique users: 1210271\n",
      "unique products: 249274\n",
      "total ratings:  2023070\n"
     ]
    }
   ],
   "source": [
    "print('unique users:',len(df.UserId.unique()))\n",
    "print('unique products:',len(df.ProductId.unique()))\n",
    "print(\"total ratings: \",df.shape[0])"
   ]
  },
  {
   "cell_type": "markdown",
   "metadata": {},
   "source": [
    "Check for null values"
   ]
  },
  {
   "cell_type": "code",
   "execution_count": 6,
   "metadata": {},
   "outputs": [
    {
     "data": {
      "text/plain": [
       "UserId       False\n",
       "ProductId    False\n",
       "Rating       False\n",
       "Timestamp    False\n",
       "dtype: bool"
      ]
     },
     "execution_count": 6,
     "metadata": {},
     "output_type": "execute_result"
    }
   ],
   "source": [
    "df.isnull().any()"
   ]
  },
  {
   "cell_type": "markdown",
   "metadata": {},
   "source": [
    "Number of rated products per user"
   ]
  },
  {
   "cell_type": "code",
   "execution_count": 7,
   "metadata": {},
   "outputs": [
    {
     "data": {
      "text/plain": [
       "UserId\n",
       "A3KEZLJ59C1JVH    389\n",
       "A281NPSIMI1C2R    336\n",
       "A3M174IC0VXOS2    326\n",
       "A2V5R832QCSOMX    278\n",
       "A3LJLRIZL38GG3    276\n",
       "Name: Rating, dtype: int64"
      ]
     },
     "execution_count": 7,
     "metadata": {},
     "output_type": "execute_result"
    }
   ],
   "source": [
    "products_user= df.groupby(by = \"UserId\")[\"Rating\"].count().sort_values(ascending =False)\n",
    "products_user.head()"
   ]
  },
  {
   "cell_type": "markdown",
   "metadata": {},
   "source": [
    "Number of ratings per product"
   ]
  },
  {
   "cell_type": "code",
   "execution_count": 8,
   "metadata": {},
   "outputs": [
    {
     "data": {
      "text/plain": [
       "ProductId\n",
       "B001MA0QY2    7533\n",
       "B0009V1YR8    2869\n",
       "B0043OYFKU    2477\n",
       "B0000YUXI0    2143\n",
       "B003V265QW    2088\n",
       "Name: Rating, dtype: int64"
      ]
     },
     "execution_count": 8,
     "metadata": {},
     "output_type": "execute_result"
    }
   ],
   "source": [
    "product_rated = df.groupby(by = \"ProductId\")[\"Rating\"].count().sort_values(ascending = False)\n",
    "product_rated.head()"
   ]
  },
  {
   "cell_type": "markdown",
   "metadata": {},
   "source": [
    "Number of products rated by each user"
   ]
  },
  {
   "cell_type": "code",
   "execution_count": 9,
   "metadata": {},
   "outputs": [
    {
     "name": "stdout",
     "output_type": "stream",
     "text": [
      "UserId\n",
      "A3KEZLJ59C1JVH    389\n",
      "A281NPSIMI1C2R    336\n",
      "A3M174IC0VXOS2    326\n",
      "A2V5R832QCSOMX    278\n",
      "A3LJLRIZL38GG3    276\n",
      "                 ... \n",
      "A2G8M8PDTN09UZ      1\n",
      "A2G8MAFIIQSJ42      1\n",
      "A2G8MTKRE6MV52      1\n",
      "A2G8MWBXG6JIY6      1\n",
      "AZZZU2TD7Q3ET       1\n",
      "Name: ProductId, Length: 1210271, dtype: int64\n"
     ]
    }
   ],
   "source": [
    "rated_users=df.groupby(\"UserId\")[\"ProductId\"].count().sort_values(ascending=False)\n",
    "print(rated_users)"
   ]
  },
  {
   "cell_type": "code",
   "execution_count": 10,
   "metadata": {},
   "outputs": [
    {
     "name": "stdout",
     "output_type": "stream",
     "text": [
      "ProductId\n",
      "B001MA0QY2    7533\n",
      "B0009V1YR8    2869\n",
      "B0043OYFKU    2477\n",
      "B0000YUXI0    2143\n",
      "B003V265QW    2088\n",
      "              ... \n",
      "B004U81OBC       1\n",
      "B004U7R0EI       1\n",
      "B004U7Q2O2       1\n",
      "B004U7NKRE       1\n",
      "B00LU0LTOU       1\n",
      "Name: UserId, Length: 249274, dtype: int64\n"
     ]
    }
   ],
   "source": [
    "rated_products=df.groupby(\"ProductId\")[\"UserId\"].count().sort_values(ascending=False)\n",
    "print(rated_products)"
   ]
  },
  {
   "cell_type": "code",
   "execution_count": 11,
   "metadata": {},
   "outputs": [
    {
     "name": "stdout",
     "output_type": "stream",
     "text": [
      "Number of products with minimum of 5 reviews/ratings: 57722\n",
      "Number of products with minimum of 4 reviews/ratings: 67345\n",
      "Number of products with minimum of 3 reviews/ratings: 81247\n",
      "Number of products with minimum of 2 reviews/ratings: 103581\n",
      "Number of products with minimum of 1 reviews/ratings: 145790\n"
     ]
    }
   ],
   "source": [
    "print('Number of products with minimum of 5 reviews/ratings:',rated_products[rated_products>5].count())\n",
    "print('Number of products with minimum of 4 reviews/ratings:',rated_products[rated_products>4].count())\n",
    "print('Number of products with minimum of 3 reviews/ratings:',rated_products[rated_products>3].count())\n",
    "print('Number of products with minimum of 2 reviews/ratings:',rated_products[rated_products>2].count())\n",
    "print('Number of products with minimum of 1 reviews/ratings:',rated_products[rated_products>1].count())"
   ]
  },
  {
   "cell_type": "code",
   "execution_count": 12,
   "metadata": {},
   "outputs": [],
   "source": [
    "from sklearn import preprocessing\n",
    "\n",
    "label_encoder = preprocessing.LabelEncoder()"
   ]
  },
  {
   "cell_type": "markdown",
   "metadata": {},
   "source": [
    "### To convert alphanumeric data to numeric"
   ]
  },
  {
   "cell_type": "code",
   "execution_count": 13,
   "metadata": {},
   "outputs": [
    {
     "data": {
      "text/html": [
       "<div>\n",
       "<style scoped>\n",
       "    .dataframe tbody tr th:only-of-type {\n",
       "        vertical-align: middle;\n",
       "    }\n",
       "\n",
       "    .dataframe tbody tr th {\n",
       "        vertical-align: top;\n",
       "    }\n",
       "\n",
       "    .dataframe thead th {\n",
       "        text-align: right;\n",
       "    }\n",
       "</style>\n",
       "<table border=\"1\" class=\"dataframe\">\n",
       "  <thead>\n",
       "    <tr style=\"text-align: right;\">\n",
       "      <th></th>\n",
       "      <th>UserId</th>\n",
       "      <th>ProductId</th>\n",
       "      <th>Rating</th>\n",
       "      <th>Timestamp</th>\n",
       "      <th>user</th>\n",
       "      <th>product</th>\n",
       "    </tr>\n",
       "  </thead>\n",
       "  <tbody>\n",
       "    <tr>\n",
       "      <th>0</th>\n",
       "      <td>A39HTATAQ9V7YF</td>\n",
       "      <td>0205616461</td>\n",
       "      <td>5.0</td>\n",
       "      <td>1369699200</td>\n",
       "      <td>725046</td>\n",
       "      <td>0</td>\n",
       "    </tr>\n",
       "    <tr>\n",
       "      <th>1</th>\n",
       "      <td>A3JM6GV9MNOF9X</td>\n",
       "      <td>0558925278</td>\n",
       "      <td>3.0</td>\n",
       "      <td>1355443200</td>\n",
       "      <td>814606</td>\n",
       "      <td>1</td>\n",
       "    </tr>\n",
       "    <tr>\n",
       "      <th>2</th>\n",
       "      <td>A1Z513UWSAAO0F</td>\n",
       "      <td>0558925278</td>\n",
       "      <td>5.0</td>\n",
       "      <td>1404691200</td>\n",
       "      <td>313101</td>\n",
       "      <td>1</td>\n",
       "    </tr>\n",
       "    <tr>\n",
       "      <th>3</th>\n",
       "      <td>A1WMRR494NWEWV</td>\n",
       "      <td>0733001998</td>\n",
       "      <td>4.0</td>\n",
       "      <td>1382572800</td>\n",
       "      <td>291075</td>\n",
       "      <td>2</td>\n",
       "    </tr>\n",
       "    <tr>\n",
       "      <th>4</th>\n",
       "      <td>A3IAAVS479H7M7</td>\n",
       "      <td>0737104473</td>\n",
       "      <td>1.0</td>\n",
       "      <td>1274227200</td>\n",
       "      <td>802842</td>\n",
       "      <td>3</td>\n",
       "    </tr>\n",
       "  </tbody>\n",
       "</table>\n",
       "</div>"
      ],
      "text/plain": [
       "           UserId   ProductId  Rating   Timestamp    user  product\n",
       "0  A39HTATAQ9V7YF  0205616461     5.0  1369699200  725046        0\n",
       "1  A3JM6GV9MNOF9X  0558925278     3.0  1355443200  814606        1\n",
       "2  A1Z513UWSAAO0F  0558925278     5.0  1404691200  313101        1\n",
       "3  A1WMRR494NWEWV  0733001998     4.0  1382572800  291075        2\n",
       "4  A3IAAVS479H7M7  0737104473     1.0  1274227200  802842        3"
      ]
     },
     "execution_count": 13,
     "metadata": {},
     "output_type": "execute_result"
    }
   ],
   "source": [
    "dataset = df\n",
    "dataset['user'] = label_encoder.fit_transform(df['UserId'])\n",
    "dataset['product'] = label_encoder.fit_transform(df['ProductId'])\n",
    "dataset.head()"
   ]
  },
  {
   "cell_type": "code",
   "execution_count": 14,
   "metadata": {},
   "outputs": [
    {
     "name": "stdout",
     "output_type": "stream",
     "text": [
      "Average rating given by users: \n",
      "    user  Rating\n",
      "0     0     5.0\n",
      "1     1     5.0\n",
      "2     2     3.0\n",
      "3     3     5.0\n",
      "4     4     5.0\n",
      "----------------------------------------------------------\n",
      "\n",
      "Modified dataset: \n",
      "            UserId   ProductId  Rating_x   Timestamp    user  product  Rating_y\n",
      "0  A39HTATAQ9V7YF  0205616461       5.0  1369699200  725046        0      4.25\n",
      "1  A39HTATAQ9V7YF  B002OVV7F0       3.0  1369699200  725046    81854      4.25\n",
      "2  A39HTATAQ9V7YF  B0031IH5FQ       5.0  1369699200  725046    89013      4.25\n",
      "3  A39HTATAQ9V7YF  B006GQPZ8E       4.0  1369699200  725046   154092      4.25\n",
      "4  A3JM6GV9MNOF9X  0558925278       3.0  1355443200  814606        1      3.50\n",
      "----------------------------------------------------------\n",
      "\n",
      "Dataset: \n",
      "            UserId   ProductId  real_rating   Timestamp    user  product  \\\n",
      "0  A39HTATAQ9V7YF  0205616461          5.0  1369699200  725046        0   \n",
      "1  A39HTATAQ9V7YF  B002OVV7F0          3.0  1369699200  725046    81854   \n",
      "2  A39HTATAQ9V7YF  B0031IH5FQ          5.0  1369699200  725046    89013   \n",
      "3  A39HTATAQ9V7YF  B006GQPZ8E          4.0  1369699200  725046   154092   \n",
      "4  A3JM6GV9MNOF9X  0558925278          3.0  1355443200  814606        1   \n",
      "\n",
      "   average_rating  \n",
      "0            4.25  \n",
      "1            4.25  \n",
      "2            4.25  \n",
      "3            4.25  \n",
      "4            3.50  \n",
      "----------------------------------------------------------\n",
      "\n"
     ]
    }
   ],
   "source": [
    "# average rating given by each user\n",
    "average_rating = dataset.groupby(by=\"user\", as_index=False)['Rating'].mean()\n",
    "print(\"Average rating given by users: \\n\",average_rating.head())\n",
    "print(\"----------------------------------------------------------\\n\")\n",
    "\n",
    "\n",
    "# let's merge it with the dataset as we will be using that later\n",
    "dataset = pd.merge(dataset, average_rating, on=\"user\")\n",
    "print(\"Modified dataset: \\n\", dataset.head())\n",
    "print(\"----------------------------------------------------------\\n\")\n",
    "\n",
    "# renaming columns\n",
    "dataset = dataset.rename(columns={\"Rating_x\": \"real_rating\", \"Rating_y\": \"average_rating\"})\n",
    "print(\"Dataset: \\n\", dataset.head())\n",
    "print(\"----------------------------------------------------------\\n\")"
   ]
  },
  {
   "cell_type": "markdown",
   "metadata": {},
   "source": [
    "Certain users tend to give higher ratings while others tend to gibve lower ratings. To negate this bias, we normalise the ratings given by the users."
   ]
  },
  {
   "cell_type": "code",
   "execution_count": 15,
   "metadata": {},
   "outputs": [
    {
     "name": "stdout",
     "output_type": "stream",
     "text": [
      "Data with adjusted rating: \n",
      "            UserId   ProductId  real_rating   Timestamp    user  product  \\\n",
      "0  A39HTATAQ9V7YF  0205616461          5.0  1369699200  725046        0   \n",
      "1  A39HTATAQ9V7YF  B002OVV7F0          3.0  1369699200  725046    81854   \n",
      "2  A39HTATAQ9V7YF  B0031IH5FQ          5.0  1369699200  725046    89013   \n",
      "3  A39HTATAQ9V7YF  B006GQPZ8E          4.0  1369699200  725046   154092   \n",
      "4  A3JM6GV9MNOF9X  0558925278          3.0  1355443200  814606        1   \n",
      "\n",
      "   average_rating  normalized_rating  \n",
      "0            4.25               0.75  \n",
      "1            4.25              -1.25  \n",
      "2            4.25               0.75  \n",
      "3            4.25              -0.25  \n",
      "4            3.50              -0.50  \n"
     ]
    }
   ],
   "source": [
    "dataset['normalized_rating'] = dataset['real_rating'] - dataset['average_rating']\n",
    "print(\"Data with adjusted rating: \\n\", dataset.head())"
   ]
  },
  {
   "cell_type": "markdown",
   "metadata": {},
   "source": [
    "# Jackard Similarity"
   ]
  },
  {
   "cell_type": "markdown",
   "metadata": {},
   "source": [
    "Comparing two sets of data and see how similar they are. The values ranges from 0 to 1. The closer to 1 the better."
   ]
  },
  {
   "cell_type": "markdown",
   "metadata": {},
   "source": [
    "## Filter based on number of ratings available"
   ]
  },
  {
   "cell_type": "code",
   "execution_count": 16,
   "metadata": {},
   "outputs": [
    {
     "name": "stdout",
     "output_type": "stream",
     "text": [
      "Real ratings:\n",
      "          real_rating\n",
      "product             \n",
      "0                  1\n",
      "1                  2\n",
      "2                  1\n",
      "3                  1\n",
      "4                  1\n"
     ]
    }
   ],
   "source": [
    "rating_of_product = dataset.groupby('product')['real_rating'].count() # apply groupby \n",
    "ratings_of_products_df = pd.DataFrame(rating_of_product)\n",
    "print(\"Real ratings:\\n\",ratings_of_products_df.head()) # check for real rating for products"
   ]
  },
  {
   "cell_type": "code",
   "execution_count": 17,
   "metadata": {},
   "outputs": [
    {
     "name": "stdout",
     "output_type": "stream",
     "text": [
      "         real_rating\n",
      "product             \n",
      "704              558\n",
      "719              377\n",
      "754              288\n",
      "834              412\n",
      "843              313\n",
      "(934, 1)\n"
     ]
    }
   ],
   "source": [
    "filtered_ratings_per_product = ratings_of_products_df[ratings_of_products_df.real_rating >= 200]\n",
    "print(filtered_ratings_per_product.head())\n",
    "print(filtered_ratings_per_product.shape)"
   ]
  },
  {
   "cell_type": "code",
   "execution_count": 18,
   "metadata": {},
   "outputs": [
    {
     "name": "stdout",
     "output_type": "stream",
     "text": [
      "Popular product count which have ratings over average rating count:  934\n",
      "--------------------------------------------------------------------------------\n",
      "Filtered rated product in the dataset: \n",
      "             UserId   ProductId  real_rating   Timestamp     user  product  \\\n",
      "1   A39HTATAQ9V7YF  B002OVV7F0          3.0  1369699200   725046    81854   \n",
      "18   AKJHHD5VEH7VG  B0000UTUVU          5.0  1232323200  1073169     2237   \n",
      "20   AKJHHD5VEH7VG  B000F8HWXU          5.0  1379721600  1073169    16510   \n",
      "45   AKJHHD5VEH7VG  B001LF4I8I          4.0  1232841600  1073169    65074   \n",
      "47   AKJHHD5VEH7VG  B001OMI93S          5.0  1236643200  1073169    67333   \n",
      "\n",
      "    average_rating  normalized_rating  \n",
      "1         4.250000          -1.250000  \n",
      "18        4.222222           0.777778  \n",
      "20        4.222222           0.777778  \n",
      "45        4.222222          -0.222222  \n",
      "47        4.222222           0.777778  \n",
      "---------------------------------------------------------------------------------\n",
      "The size of dataset has changed from  2023070  to  370511\n",
      "---------------------------------------------------------------------------------\n"
     ]
    }
   ],
   "source": [
    "# build a list of products to keep\n",
    "popular_products = filtered_ratings_per_product.index.tolist()\n",
    "print(\"Popular product count which have ratings over average rating count: \",len(popular_products))\n",
    "print(\"--------------------------------------------------------------------------------\")\n",
    "\n",
    "filtered_ratings_data = dataset[dataset[\"product\"].isin(popular_products)]\n",
    "print(\"Filtered rated product in the dataset: \\n\",filtered_ratings_data.head())\n",
    "print(\"---------------------------------------------------------------------------------\")\n",
    "\n",
    "print(\"The size of dataset has changed from \", len(dataset), \" to \", len(filtered_ratings_data))\n",
    "print(\"---------------------------------------------------------------------------------\")"
   ]
  },
  {
   "cell_type": "markdown",
   "metadata": {},
   "source": [
    "## Creating the User-item matrix"
   ]
  },
  {
   "cell_type": "code",
   "execution_count": 19,
   "metadata": {},
   "outputs": [],
   "source": [
    "jac_similarity = pd.pivot_table(filtered_ratings_data,values='real_rating',index='UserId',columns='product')\n",
    "jac_similarity = jac_similarity.fillna(0)"
   ]
  },
  {
   "cell_type": "code",
   "execution_count": 20,
   "metadata": {},
   "outputs": [
    {
     "name": "stdout",
     "output_type": "stream",
     "text": [
      "(306165, 934)\n"
     ]
    },
    {
     "data": {
      "text/html": [
       "<div>\n",
       "<style scoped>\n",
       "    .dataframe tbody tr th:only-of-type {\n",
       "        vertical-align: middle;\n",
       "    }\n",
       "\n",
       "    .dataframe tbody tr th {\n",
       "        vertical-align: top;\n",
       "    }\n",
       "\n",
       "    .dataframe thead th {\n",
       "        text-align: right;\n",
       "    }\n",
       "</style>\n",
       "<table border=\"1\" class=\"dataframe\">\n",
       "  <thead>\n",
       "    <tr style=\"text-align: right;\">\n",
       "      <th>product</th>\n",
       "      <th>704</th>\n",
       "      <th>719</th>\n",
       "      <th>754</th>\n",
       "      <th>834</th>\n",
       "      <th>843</th>\n",
       "      <th>858</th>\n",
       "      <th>861</th>\n",
       "      <th>873</th>\n",
       "      <th>944</th>\n",
       "      <th>981</th>\n",
       "      <th>...</th>\n",
       "      <th>241604</th>\n",
       "      <th>242018</th>\n",
       "      <th>242048</th>\n",
       "      <th>243416</th>\n",
       "      <th>244376</th>\n",
       "      <th>244448</th>\n",
       "      <th>245600</th>\n",
       "      <th>247603</th>\n",
       "      <th>249109</th>\n",
       "      <th>249211</th>\n",
       "    </tr>\n",
       "    <tr>\n",
       "      <th>UserId</th>\n",
       "      <th></th>\n",
       "      <th></th>\n",
       "      <th></th>\n",
       "      <th></th>\n",
       "      <th></th>\n",
       "      <th></th>\n",
       "      <th></th>\n",
       "      <th></th>\n",
       "      <th></th>\n",
       "      <th></th>\n",
       "      <th></th>\n",
       "      <th></th>\n",
       "      <th></th>\n",
       "      <th></th>\n",
       "      <th></th>\n",
       "      <th></th>\n",
       "      <th></th>\n",
       "      <th></th>\n",
       "      <th></th>\n",
       "      <th></th>\n",
       "      <th></th>\n",
       "    </tr>\n",
       "  </thead>\n",
       "  <tbody>\n",
       "    <tr>\n",
       "      <th>A0010876CNE3ILIM9HV0</th>\n",
       "      <td>0.0</td>\n",
       "      <td>0.0</td>\n",
       "      <td>0.0</td>\n",
       "      <td>0.0</td>\n",
       "      <td>0.0</td>\n",
       "      <td>0.0</td>\n",
       "      <td>0.0</td>\n",
       "      <td>0.0</td>\n",
       "      <td>0.0</td>\n",
       "      <td>0.0</td>\n",
       "      <td>...</td>\n",
       "      <td>0.0</td>\n",
       "      <td>0.0</td>\n",
       "      <td>0.0</td>\n",
       "      <td>0.0</td>\n",
       "      <td>0.0</td>\n",
       "      <td>0.0</td>\n",
       "      <td>0.0</td>\n",
       "      <td>0.0</td>\n",
       "      <td>0.0</td>\n",
       "      <td>0.0</td>\n",
       "    </tr>\n",
       "    <tr>\n",
       "      <th>A0011102257KBXODKL24I</th>\n",
       "      <td>0.0</td>\n",
       "      <td>0.0</td>\n",
       "      <td>0.0</td>\n",
       "      <td>0.0</td>\n",
       "      <td>0.0</td>\n",
       "      <td>0.0</td>\n",
       "      <td>0.0</td>\n",
       "      <td>0.0</td>\n",
       "      <td>0.0</td>\n",
       "      <td>0.0</td>\n",
       "      <td>...</td>\n",
       "      <td>0.0</td>\n",
       "      <td>0.0</td>\n",
       "      <td>0.0</td>\n",
       "      <td>0.0</td>\n",
       "      <td>0.0</td>\n",
       "      <td>0.0</td>\n",
       "      <td>0.0</td>\n",
       "      <td>0.0</td>\n",
       "      <td>0.0</td>\n",
       "      <td>0.0</td>\n",
       "    </tr>\n",
       "    <tr>\n",
       "      <th>A00120381FL204MYH7G3B</th>\n",
       "      <td>0.0</td>\n",
       "      <td>0.0</td>\n",
       "      <td>0.0</td>\n",
       "      <td>0.0</td>\n",
       "      <td>0.0</td>\n",
       "      <td>0.0</td>\n",
       "      <td>0.0</td>\n",
       "      <td>0.0</td>\n",
       "      <td>0.0</td>\n",
       "      <td>0.0</td>\n",
       "      <td>...</td>\n",
       "      <td>0.0</td>\n",
       "      <td>0.0</td>\n",
       "      <td>0.0</td>\n",
       "      <td>0.0</td>\n",
       "      <td>0.0</td>\n",
       "      <td>0.0</td>\n",
       "      <td>0.0</td>\n",
       "      <td>0.0</td>\n",
       "      <td>0.0</td>\n",
       "      <td>0.0</td>\n",
       "    </tr>\n",
       "    <tr>\n",
       "      <th>A00126503SUWI86KZBMIN</th>\n",
       "      <td>0.0</td>\n",
       "      <td>0.0</td>\n",
       "      <td>0.0</td>\n",
       "      <td>0.0</td>\n",
       "      <td>0.0</td>\n",
       "      <td>0.0</td>\n",
       "      <td>0.0</td>\n",
       "      <td>0.0</td>\n",
       "      <td>0.0</td>\n",
       "      <td>0.0</td>\n",
       "      <td>...</td>\n",
       "      <td>0.0</td>\n",
       "      <td>0.0</td>\n",
       "      <td>0.0</td>\n",
       "      <td>0.0</td>\n",
       "      <td>0.0</td>\n",
       "      <td>0.0</td>\n",
       "      <td>0.0</td>\n",
       "      <td>0.0</td>\n",
       "      <td>0.0</td>\n",
       "      <td>0.0</td>\n",
       "    </tr>\n",
       "    <tr>\n",
       "      <th>A001573229XK5T8PI0OKA</th>\n",
       "      <td>0.0</td>\n",
       "      <td>0.0</td>\n",
       "      <td>0.0</td>\n",
       "      <td>0.0</td>\n",
       "      <td>0.0</td>\n",
       "      <td>0.0</td>\n",
       "      <td>0.0</td>\n",
       "      <td>0.0</td>\n",
       "      <td>0.0</td>\n",
       "      <td>0.0</td>\n",
       "      <td>...</td>\n",
       "      <td>0.0</td>\n",
       "      <td>0.0</td>\n",
       "      <td>0.0</td>\n",
       "      <td>0.0</td>\n",
       "      <td>0.0</td>\n",
       "      <td>0.0</td>\n",
       "      <td>0.0</td>\n",
       "      <td>0.0</td>\n",
       "      <td>0.0</td>\n",
       "      <td>0.0</td>\n",
       "    </tr>\n",
       "  </tbody>\n",
       "</table>\n",
       "<p>5 rows × 934 columns</p>\n",
       "</div>"
      ],
      "text/plain": [
       "product                704     719     754     834     843     858     861     \\\n",
       "UserId                                                                          \n",
       "A0010876CNE3ILIM9HV0      0.0     0.0     0.0     0.0     0.0     0.0     0.0   \n",
       "A0011102257KBXODKL24I     0.0     0.0     0.0     0.0     0.0     0.0     0.0   \n",
       "A00120381FL204MYH7G3B     0.0     0.0     0.0     0.0     0.0     0.0     0.0   \n",
       "A00126503SUWI86KZBMIN     0.0     0.0     0.0     0.0     0.0     0.0     0.0   \n",
       "A001573229XK5T8PI0OKA     0.0     0.0     0.0     0.0     0.0     0.0     0.0   \n",
       "\n",
       "product                873     944     981     ...  241604  242018  242048  \\\n",
       "UserId                                         ...                           \n",
       "A0010876CNE3ILIM9HV0      0.0     0.0     0.0  ...     0.0     0.0     0.0   \n",
       "A0011102257KBXODKL24I     0.0     0.0     0.0  ...     0.0     0.0     0.0   \n",
       "A00120381FL204MYH7G3B     0.0     0.0     0.0  ...     0.0     0.0     0.0   \n",
       "A00126503SUWI86KZBMIN     0.0     0.0     0.0  ...     0.0     0.0     0.0   \n",
       "A001573229XK5T8PI0OKA     0.0     0.0     0.0  ...     0.0     0.0     0.0   \n",
       "\n",
       "product                243416  244376  244448  245600  247603  249109  249211  \n",
       "UserId                                                                         \n",
       "A0010876CNE3ILIM9HV0      0.0     0.0     0.0     0.0     0.0     0.0     0.0  \n",
       "A0011102257KBXODKL24I     0.0     0.0     0.0     0.0     0.0     0.0     0.0  \n",
       "A00120381FL204MYH7G3B     0.0     0.0     0.0     0.0     0.0     0.0     0.0  \n",
       "A00126503SUWI86KZBMIN     0.0     0.0     0.0     0.0     0.0     0.0     0.0  \n",
       "A001573229XK5T8PI0OKA     0.0     0.0     0.0     0.0     0.0     0.0     0.0  \n",
       "\n",
       "[5 rows x 934 columns]"
      ]
     },
     "execution_count": 20,
     "metadata": {},
     "output_type": "execute_result"
    }
   ],
   "source": [
    "print(jac_similarity.shape)\n",
    "jac_similarity.head()"
   ]
  },
  {
   "cell_type": "code",
   "execution_count": 21,
   "metadata": {},
   "outputs": [],
   "source": [
    "from sklearn.metrics.pairwise import cosine_similarity\n",
    "import operator"
   ]
  },
  {
   "cell_type": "code",
   "execution_count": 22,
   "metadata": {},
   "outputs": [],
   "source": [
    "selecting_users = list(jac_similarity.index)\n",
    "selecting_users = selecting_users[:10000]"
   ]
  },
  {
   "cell_type": "code",
   "execution_count": 23,
   "metadata": {},
   "outputs": [
    {
     "data": {
      "text/html": [
       "<div>\n",
       "<style scoped>\n",
       "    .dataframe tbody tr th:only-of-type {\n",
       "        vertical-align: middle;\n",
       "    }\n",
       "\n",
       "    .dataframe tbody tr th {\n",
       "        vertical-align: top;\n",
       "    }\n",
       "\n",
       "    .dataframe thead th {\n",
       "        text-align: right;\n",
       "    }\n",
       "</style>\n",
       "<table border=\"1\" class=\"dataframe\">\n",
       "  <thead>\n",
       "    <tr style=\"text-align: right;\">\n",
       "      <th>product</th>\n",
       "      <th>704</th>\n",
       "      <th>719</th>\n",
       "      <th>754</th>\n",
       "      <th>834</th>\n",
       "      <th>843</th>\n",
       "      <th>858</th>\n",
       "      <th>861</th>\n",
       "      <th>873</th>\n",
       "      <th>944</th>\n",
       "      <th>981</th>\n",
       "      <th>...</th>\n",
       "      <th>241604</th>\n",
       "      <th>242018</th>\n",
       "      <th>242048</th>\n",
       "      <th>243416</th>\n",
       "      <th>244376</th>\n",
       "      <th>244448</th>\n",
       "      <th>245600</th>\n",
       "      <th>247603</th>\n",
       "      <th>249109</th>\n",
       "      <th>249211</th>\n",
       "    </tr>\n",
       "    <tr>\n",
       "      <th>UserId</th>\n",
       "      <th></th>\n",
       "      <th></th>\n",
       "      <th></th>\n",
       "      <th></th>\n",
       "      <th></th>\n",
       "      <th></th>\n",
       "      <th></th>\n",
       "      <th></th>\n",
       "      <th></th>\n",
       "      <th></th>\n",
       "      <th></th>\n",
       "      <th></th>\n",
       "      <th></th>\n",
       "      <th></th>\n",
       "      <th></th>\n",
       "      <th></th>\n",
       "      <th></th>\n",
       "      <th></th>\n",
       "      <th></th>\n",
       "      <th></th>\n",
       "      <th></th>\n",
       "    </tr>\n",
       "  </thead>\n",
       "  <tbody>\n",
       "    <tr>\n",
       "      <th>A0010876CNE3ILIM9HV0</th>\n",
       "      <td>0.0</td>\n",
       "      <td>0.0</td>\n",
       "      <td>0.0</td>\n",
       "      <td>0.0</td>\n",
       "      <td>0.0</td>\n",
       "      <td>0.0</td>\n",
       "      <td>0.0</td>\n",
       "      <td>0.0</td>\n",
       "      <td>0.0</td>\n",
       "      <td>0.0</td>\n",
       "      <td>...</td>\n",
       "      <td>0.0</td>\n",
       "      <td>0.0</td>\n",
       "      <td>0.0</td>\n",
       "      <td>0.0</td>\n",
       "      <td>0.0</td>\n",
       "      <td>0.0</td>\n",
       "      <td>0.0</td>\n",
       "      <td>0.0</td>\n",
       "      <td>0.0</td>\n",
       "      <td>0.0</td>\n",
       "    </tr>\n",
       "    <tr>\n",
       "      <th>A0011102257KBXODKL24I</th>\n",
       "      <td>0.0</td>\n",
       "      <td>0.0</td>\n",
       "      <td>0.0</td>\n",
       "      <td>0.0</td>\n",
       "      <td>0.0</td>\n",
       "      <td>0.0</td>\n",
       "      <td>0.0</td>\n",
       "      <td>0.0</td>\n",
       "      <td>0.0</td>\n",
       "      <td>0.0</td>\n",
       "      <td>...</td>\n",
       "      <td>0.0</td>\n",
       "      <td>0.0</td>\n",
       "      <td>0.0</td>\n",
       "      <td>0.0</td>\n",
       "      <td>0.0</td>\n",
       "      <td>0.0</td>\n",
       "      <td>0.0</td>\n",
       "      <td>0.0</td>\n",
       "      <td>0.0</td>\n",
       "      <td>0.0</td>\n",
       "    </tr>\n",
       "    <tr>\n",
       "      <th>A00120381FL204MYH7G3B</th>\n",
       "      <td>0.0</td>\n",
       "      <td>0.0</td>\n",
       "      <td>0.0</td>\n",
       "      <td>0.0</td>\n",
       "      <td>0.0</td>\n",
       "      <td>0.0</td>\n",
       "      <td>0.0</td>\n",
       "      <td>0.0</td>\n",
       "      <td>0.0</td>\n",
       "      <td>0.0</td>\n",
       "      <td>...</td>\n",
       "      <td>0.0</td>\n",
       "      <td>0.0</td>\n",
       "      <td>0.0</td>\n",
       "      <td>0.0</td>\n",
       "      <td>0.0</td>\n",
       "      <td>0.0</td>\n",
       "      <td>0.0</td>\n",
       "      <td>0.0</td>\n",
       "      <td>0.0</td>\n",
       "      <td>0.0</td>\n",
       "    </tr>\n",
       "    <tr>\n",
       "      <th>A00126503SUWI86KZBMIN</th>\n",
       "      <td>0.0</td>\n",
       "      <td>0.0</td>\n",
       "      <td>0.0</td>\n",
       "      <td>0.0</td>\n",
       "      <td>0.0</td>\n",
       "      <td>0.0</td>\n",
       "      <td>0.0</td>\n",
       "      <td>0.0</td>\n",
       "      <td>0.0</td>\n",
       "      <td>0.0</td>\n",
       "      <td>...</td>\n",
       "      <td>0.0</td>\n",
       "      <td>0.0</td>\n",
       "      <td>0.0</td>\n",
       "      <td>0.0</td>\n",
       "      <td>0.0</td>\n",
       "      <td>0.0</td>\n",
       "      <td>0.0</td>\n",
       "      <td>0.0</td>\n",
       "      <td>0.0</td>\n",
       "      <td>0.0</td>\n",
       "    </tr>\n",
       "    <tr>\n",
       "      <th>A001573229XK5T8PI0OKA</th>\n",
       "      <td>0.0</td>\n",
       "      <td>0.0</td>\n",
       "      <td>0.0</td>\n",
       "      <td>0.0</td>\n",
       "      <td>0.0</td>\n",
       "      <td>0.0</td>\n",
       "      <td>0.0</td>\n",
       "      <td>0.0</td>\n",
       "      <td>0.0</td>\n",
       "      <td>0.0</td>\n",
       "      <td>...</td>\n",
       "      <td>0.0</td>\n",
       "      <td>0.0</td>\n",
       "      <td>0.0</td>\n",
       "      <td>0.0</td>\n",
       "      <td>0.0</td>\n",
       "      <td>0.0</td>\n",
       "      <td>0.0</td>\n",
       "      <td>0.0</td>\n",
       "      <td>0.0</td>\n",
       "      <td>0.0</td>\n",
       "    </tr>\n",
       "  </tbody>\n",
       "</table>\n",
       "<p>5 rows × 934 columns</p>\n",
       "</div>"
      ],
      "text/plain": [
       "product                704     719     754     834     843     858     861     \\\n",
       "UserId                                                                          \n",
       "A0010876CNE3ILIM9HV0      0.0     0.0     0.0     0.0     0.0     0.0     0.0   \n",
       "A0011102257KBXODKL24I     0.0     0.0     0.0     0.0     0.0     0.0     0.0   \n",
       "A00120381FL204MYH7G3B     0.0     0.0     0.0     0.0     0.0     0.0     0.0   \n",
       "A00126503SUWI86KZBMIN     0.0     0.0     0.0     0.0     0.0     0.0     0.0   \n",
       "A001573229XK5T8PI0OKA     0.0     0.0     0.0     0.0     0.0     0.0     0.0   \n",
       "\n",
       "product                873     944     981     ...  241604  242018  242048  \\\n",
       "UserId                                         ...                           \n",
       "A0010876CNE3ILIM9HV0      0.0     0.0     0.0  ...     0.0     0.0     0.0   \n",
       "A0011102257KBXODKL24I     0.0     0.0     0.0  ...     0.0     0.0     0.0   \n",
       "A00120381FL204MYH7G3B     0.0     0.0     0.0  ...     0.0     0.0     0.0   \n",
       "A00126503SUWI86KZBMIN     0.0     0.0     0.0  ...     0.0     0.0     0.0   \n",
       "A001573229XK5T8PI0OKA     0.0     0.0     0.0  ...     0.0     0.0     0.0   \n",
       "\n",
       "product                243416  244376  244448  245600  247603  249109  249211  \n",
       "UserId                                                                         \n",
       "A0010876CNE3ILIM9HV0      0.0     0.0     0.0     0.0     0.0     0.0     0.0  \n",
       "A0011102257KBXODKL24I     0.0     0.0     0.0     0.0     0.0     0.0     0.0  \n",
       "A00120381FL204MYH7G3B     0.0     0.0     0.0     0.0     0.0     0.0     0.0  \n",
       "A00126503SUWI86KZBMIN     0.0     0.0     0.0     0.0     0.0     0.0     0.0  \n",
       "A001573229XK5T8PI0OKA     0.0     0.0     0.0     0.0     0.0     0.0     0.0  \n",
       "\n",
       "[5 rows x 934 columns]"
      ]
     },
     "execution_count": 23,
     "metadata": {},
     "output_type": "execute_result"
    }
   ],
   "source": [
    "selected_mat = jac_similarity.loc[selecting_users]\n",
    "selected_mat.head()"
   ]
  },
  {
   "cell_type": "code",
   "execution_count": 24,
   "metadata": {},
   "outputs": [],
   "source": [
    "selecting_product = selected_mat.columns\n",
    "mu_matrix = np.array(selected_mat.values, dtype=int)"
   ]
  },
  {
   "cell_type": "code",
   "execution_count": null,
   "metadata": {},
   "outputs": [],
   "source": []
  }
 ],
 "metadata": {
  "interpreter": {
   "hash": "651c3b7b3f466eb030aa737f279c846be4db9cba49a2f229278cab5e41121ed5"
  },
  "kernelspec": {
   "display_name": "Python 3.9.7 ('base')",
   "language": "python",
   "name": "python3"
  },
  "language_info": {
   "codemirror_mode": {
    "name": "ipython",
    "version": 3
   },
   "file_extension": ".py",
   "mimetype": "text/x-python",
   "name": "python",
   "nbconvert_exporter": "python",
   "pygments_lexer": "ipython3",
   "version": "3.9.7"
  },
  "orig_nbformat": 4
 },
 "nbformat": 4,
 "nbformat_minor": 2
}

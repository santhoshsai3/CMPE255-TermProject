{
 "cells": [
  {
   "cell_type": "markdown",
   "id": "898b98f2",
   "metadata": {},
   "source": [
    "# Importing the required libraries"
   ]
  },
  {
   "cell_type": "code",
   "execution_count": 1,
   "id": "aaf70f65",
   "metadata": {},
   "outputs": [],
   "source": [
    "import pandas as pd\n",
    "import numpy as np\n",
    "import matplotlib.pyplot as plt\n",
    "import seaborn as sns"
   ]
  },
  {
   "cell_type": "markdown",
   "id": "20500a52",
   "metadata": {},
   "source": [
    "# Loading the dataset to the pandas dataframe."
   ]
  },
  {
   "cell_type": "code",
   "execution_count": 2,
   "id": "be2c7486",
   "metadata": {},
   "outputs": [],
   "source": [
    "df = pd.read_csv('https://raw.githubusercontent.com/santhoshsai3/CMPE255-TermProject/main/ratings_Beauty.csv')\n"
   ]
  },
  {
   "cell_type": "markdown",
   "id": "4182676c",
   "metadata": {},
   "source": [
    "# Summary of Dataset"
   ]
  },
  {
   "cell_type": "code",
   "execution_count": 10,
   "id": "875a0b31",
   "metadata": {},
   "outputs": [
    {
     "name": "stdout",
     "output_type": "stream",
     "text": [
      "shape of the dataset : (2023070, 4)\n",
      "The number of rows :  2023070\n",
      "The number of columns :  4\n"
     ]
    }
   ],
   "source": [
    "print(\"shape of the dataset :\" , df.shape)\n",
    "(rows,cols) = df.shape\n",
    "print(\"The number of rows : \", rows)\n",
    "print(\"The number of columns : \", cols)"
   ]
  },
  {
   "cell_type": "code",
   "execution_count": 12,
   "id": "8695350d",
   "metadata": {},
   "outputs": [
    {
     "name": "stdout",
     "output_type": "stream",
     "text": [
      "<class 'pandas.core.frame.DataFrame'>\n",
      "RangeIndex: 2023070 entries, 0 to 2023069\n",
      "Data columns (total 4 columns):\n",
      " #   Column     Dtype  \n",
      "---  ------     -----  \n",
      " 0   UserId     object \n",
      " 1   ProductId  object \n",
      " 2   Rating     float64\n",
      " 3   Timestamp  int64  \n",
      "dtypes: float64(1), int64(1), object(2)\n",
      "memory usage: 61.7+ MB\n"
     ]
    }
   ],
   "source": [
    "df.info()"
   ]
  },
  {
   "cell_type": "code",
   "execution_count": 13,
   "id": "760581f7",
   "metadata": {},
   "outputs": [
    {
     "data": {
      "text/html": [
       "<div>\n",
       "<style scoped>\n",
       "    .dataframe tbody tr th:only-of-type {\n",
       "        vertical-align: middle;\n",
       "    }\n",
       "\n",
       "    .dataframe tbody tr th {\n",
       "        vertical-align: top;\n",
       "    }\n",
       "\n",
       "    .dataframe thead th {\n",
       "        text-align: right;\n",
       "    }\n",
       "</style>\n",
       "<table border=\"1\" class=\"dataframe\">\n",
       "  <thead>\n",
       "    <tr style=\"text-align: right;\">\n",
       "      <th></th>\n",
       "      <th>Rating</th>\n",
       "      <th>Timestamp</th>\n",
       "    </tr>\n",
       "  </thead>\n",
       "  <tbody>\n",
       "    <tr>\n",
       "      <th>count</th>\n",
       "      <td>2.023070e+06</td>\n",
       "      <td>2.023070e+06</td>\n",
       "    </tr>\n",
       "    <tr>\n",
       "      <th>mean</th>\n",
       "      <td>4.149036e+00</td>\n",
       "      <td>1.360389e+09</td>\n",
       "    </tr>\n",
       "    <tr>\n",
       "      <th>std</th>\n",
       "      <td>1.311505e+00</td>\n",
       "      <td>4.611860e+07</td>\n",
       "    </tr>\n",
       "    <tr>\n",
       "      <th>min</th>\n",
       "      <td>1.000000e+00</td>\n",
       "      <td>9.087552e+08</td>\n",
       "    </tr>\n",
       "    <tr>\n",
       "      <th>25%</th>\n",
       "      <td>4.000000e+00</td>\n",
       "      <td>1.350259e+09</td>\n",
       "    </tr>\n",
       "    <tr>\n",
       "      <th>50%</th>\n",
       "      <td>5.000000e+00</td>\n",
       "      <td>1.372810e+09</td>\n",
       "    </tr>\n",
       "    <tr>\n",
       "      <th>75%</th>\n",
       "      <td>5.000000e+00</td>\n",
       "      <td>1.391472e+09</td>\n",
       "    </tr>\n",
       "    <tr>\n",
       "      <th>max</th>\n",
       "      <td>5.000000e+00</td>\n",
       "      <td>1.406074e+09</td>\n",
       "    </tr>\n",
       "  </tbody>\n",
       "</table>\n",
       "</div>"
      ],
      "text/plain": [
       "             Rating     Timestamp\n",
       "count  2.023070e+06  2.023070e+06\n",
       "mean   4.149036e+00  1.360389e+09\n",
       "std    1.311505e+00  4.611860e+07\n",
       "min    1.000000e+00  9.087552e+08\n",
       "25%    4.000000e+00  1.350259e+09\n",
       "50%    5.000000e+00  1.372810e+09\n",
       "75%    5.000000e+00  1.391472e+09\n",
       "max    5.000000e+00  1.406074e+09"
      ]
     },
     "execution_count": 13,
     "metadata": {},
     "output_type": "execute_result"
    }
   ],
   "source": [
    "df.describe()"
   ]
  },
  {
   "cell_type": "code",
   "execution_count": 3,
   "id": "50c3bdde",
   "metadata": {},
   "outputs": [
    {
     "data": {
      "text/html": [
       "<div>\n",
       "<style scoped>\n",
       "    .dataframe tbody tr th:only-of-type {\n",
       "        vertical-align: middle;\n",
       "    }\n",
       "\n",
       "    .dataframe tbody tr th {\n",
       "        vertical-align: top;\n",
       "    }\n",
       "\n",
       "    .dataframe thead th {\n",
       "        text-align: right;\n",
       "    }\n",
       "</style>\n",
       "<table border=\"1\" class=\"dataframe\">\n",
       "  <thead>\n",
       "    <tr style=\"text-align: right;\">\n",
       "      <th></th>\n",
       "      <th>UserId</th>\n",
       "      <th>ProductId</th>\n",
       "      <th>Rating</th>\n",
       "      <th>Timestamp</th>\n",
       "    </tr>\n",
       "  </thead>\n",
       "  <tbody>\n",
       "    <tr>\n",
       "      <th>0</th>\n",
       "      <td>A39HTATAQ9V7YF</td>\n",
       "      <td>0205616461</td>\n",
       "      <td>5.0</td>\n",
       "      <td>1369699200</td>\n",
       "    </tr>\n",
       "    <tr>\n",
       "      <th>1</th>\n",
       "      <td>A3JM6GV9MNOF9X</td>\n",
       "      <td>0558925278</td>\n",
       "      <td>3.0</td>\n",
       "      <td>1355443200</td>\n",
       "    </tr>\n",
       "    <tr>\n",
       "      <th>2</th>\n",
       "      <td>A1Z513UWSAAO0F</td>\n",
       "      <td>0558925278</td>\n",
       "      <td>5.0</td>\n",
       "      <td>1404691200</td>\n",
       "    </tr>\n",
       "    <tr>\n",
       "      <th>3</th>\n",
       "      <td>A1WMRR494NWEWV</td>\n",
       "      <td>0733001998</td>\n",
       "      <td>4.0</td>\n",
       "      <td>1382572800</td>\n",
       "    </tr>\n",
       "    <tr>\n",
       "      <th>4</th>\n",
       "      <td>A3IAAVS479H7M7</td>\n",
       "      <td>0737104473</td>\n",
       "      <td>1.0</td>\n",
       "      <td>1274227200</td>\n",
       "    </tr>\n",
       "    <tr>\n",
       "      <th>...</th>\n",
       "      <td>...</td>\n",
       "      <td>...</td>\n",
       "      <td>...</td>\n",
       "      <td>...</td>\n",
       "    </tr>\n",
       "    <tr>\n",
       "      <th>2023065</th>\n",
       "      <td>A3DEHKPFANB8VA</td>\n",
       "      <td>B00LORWRJA</td>\n",
       "      <td>5.0</td>\n",
       "      <td>1405296000</td>\n",
       "    </tr>\n",
       "    <tr>\n",
       "      <th>2023066</th>\n",
       "      <td>A3DEHKPFANB8VA</td>\n",
       "      <td>B00LOS7MEE</td>\n",
       "      <td>5.0</td>\n",
       "      <td>1405296000</td>\n",
       "    </tr>\n",
       "    <tr>\n",
       "      <th>2023067</th>\n",
       "      <td>AG9TJLJUN5OM3</td>\n",
       "      <td>B00LP2YB8E</td>\n",
       "      <td>5.0</td>\n",
       "      <td>1405382400</td>\n",
       "    </tr>\n",
       "    <tr>\n",
       "      <th>2023068</th>\n",
       "      <td>AYBIB14QOI9PC</td>\n",
       "      <td>B00LPVG6V0</td>\n",
       "      <td>5.0</td>\n",
       "      <td>1405555200</td>\n",
       "    </tr>\n",
       "    <tr>\n",
       "      <th>2023069</th>\n",
       "      <td>A1PB6OT0OOPKNQ</td>\n",
       "      <td>B00LU0LTOU</td>\n",
       "      <td>5.0</td>\n",
       "      <td>1405641600</td>\n",
       "    </tr>\n",
       "  </tbody>\n",
       "</table>\n",
       "<p>2023070 rows × 4 columns</p>\n",
       "</div>"
      ],
      "text/plain": [
       "                 UserId   ProductId  Rating   Timestamp\n",
       "0        A39HTATAQ9V7YF  0205616461     5.0  1369699200\n",
       "1        A3JM6GV9MNOF9X  0558925278     3.0  1355443200\n",
       "2        A1Z513UWSAAO0F  0558925278     5.0  1404691200\n",
       "3        A1WMRR494NWEWV  0733001998     4.0  1382572800\n",
       "4        A3IAAVS479H7M7  0737104473     1.0  1274227200\n",
       "...                 ...         ...     ...         ...\n",
       "2023065  A3DEHKPFANB8VA  B00LORWRJA     5.0  1405296000\n",
       "2023066  A3DEHKPFANB8VA  B00LOS7MEE     5.0  1405296000\n",
       "2023067   AG9TJLJUN5OM3  B00LP2YB8E     5.0  1405382400\n",
       "2023068   AYBIB14QOI9PC  B00LPVG6V0     5.0  1405555200\n",
       "2023069  A1PB6OT0OOPKNQ  B00LU0LTOU     5.0  1405641600\n",
       "\n",
       "[2023070 rows x 4 columns]"
      ]
     },
     "execution_count": 3,
     "metadata": {},
     "output_type": "execute_result"
    }
   ],
   "source": [
    "#displaying the dataset\n",
    "df"
   ]
  },
  {
   "cell_type": "code",
   "execution_count": 11,
   "id": "32ef5552",
   "metadata": {},
   "outputs": [
    {
     "name": "stdout",
     "output_type": "stream",
     "text": [
      " Duplicate records:  0\n"
     ]
    }
   ],
   "source": [
    "#checking for the data integriety by finding the duplicate rows.\n",
    "duplicates = df.duplicated([\"UserId\",\"ProductId\", \"Rating\", \"Timestamp\"]).sum()\n",
    "print(' Duplicate records: ',duplicates)"
   ]
  },
  {
   "cell_type": "code",
   "execution_count": 19,
   "id": "5f61667c",
   "metadata": {},
   "outputs": [
    {
     "name": "stdout",
     "output_type": "stream",
     "text": [
      "unique users: 1210271\n"
     ]
    }
   ],
   "source": [
    "#Printing the number of unique users\n",
    "print('unique users:',len(df['UserId'].unique()))\n",
    "\n"
   ]
  },
  {
   "cell_type": "code",
   "execution_count": 16,
   "id": "ecaa9118",
   "metadata": {},
   "outputs": [
    {
     "name": "stdout",
     "output_type": "stream",
     "text": [
      "unique products: 249274\n"
     ]
    }
   ],
   "source": [
    "#Printing the number of unique products\n",
    "print('unique products:',len(df['ProductId'].unique()))\n"
   ]
  },
  {
   "cell_type": "code",
   "execution_count": 17,
   "id": "f399ba41",
   "metadata": {},
   "outputs": [
    {
     "name": "stdout",
     "output_type": "stream",
     "text": [
      "unique ratings: 5\n"
     ]
    }
   ],
   "source": [
    "#Printing the number of unique ratings\n",
    "print('unique ratings:',len(df['Rating'].unique()))"
   ]
  },
  {
   "cell_type": "markdown",
   "id": "772049ad",
   "metadata": {},
   "source": [
    "# Handling null values"
   ]
  },
  {
   "cell_type": "code",
   "execution_count": 20,
   "id": "7819cfd5",
   "metadata": {},
   "outputs": [
    {
     "data": {
      "text/plain": [
       "UserId       False\n",
       "ProductId    False\n",
       "Rating       False\n",
       "Timestamp    False\n",
       "dtype: bool"
      ]
     },
     "execution_count": 20,
     "metadata": {},
     "output_type": "execute_result"
    }
   ],
   "source": [
    "df.isnull().any()"
   ]
  },
  {
   "cell_type": "code",
   "execution_count": null,
   "id": "d92e4336",
   "metadata": {},
   "outputs": [],
   "source": []
  },
  {
   "cell_type": "code",
   "execution_count": null,
   "id": "77a8f614",
   "metadata": {},
   "outputs": [],
   "source": []
  }
 ],
 "metadata": {
  "kernelspec": {
   "display_name": "Python 3 (ipykernel)",
   "language": "python",
   "name": "python3"
  },
  "language_info": {
   "codemirror_mode": {
    "name": "ipython",
    "version": 3
   },
   "file_extension": ".py",
   "mimetype": "text/x-python",
   "name": "python",
   "nbconvert_exporter": "python",
   "pygments_lexer": "ipython3",
   "version": "3.9.7"
  }
 },
 "nbformat": 4,
 "nbformat_minor": 5
}
